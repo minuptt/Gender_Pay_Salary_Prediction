{
 "cells": [
  {
   "cell_type": "markdown",
   "metadata": {},
   "source": [
    "# Import Libraries "
   ]
  },
  {
   "cell_type": "code",
   "execution_count": 2,
   "metadata": {},
   "outputs": [],
   "source": [
    "import numpy as np \n",
    "import pandas as pd\n",
    "import statistics \n",
    "import matplotlib\n",
    "import matplotlib.pyplot as plt\n",
    "import seaborn as sns\n",
    "\n",
    "from statistics import *\n"
   ]
  },
  {
   "cell_type": "markdown",
   "metadata": {},
   "source": [
    "# Read the dataset"
   ]
  },
  {
   "cell_type": "code",
   "execution_count": 3,
   "metadata": {
    "scrolled": true
   },
   "outputs": [
    {
     "name": "stderr",
     "output_type": "stream",
     "text": [
      "/Users/thiphan/opt/anaconda3/lib/python3.8/site-packages/IPython/core/interactiveshell.py:3071: DtypeWarning: Columns (0,2,8,10,21,23,24,25,26,27,28,44,56,64,83,85,87,107,109,123,125,150,157,172,174,194,210,218,219,223,246,249,262,264,276,277,278,279,280,281,282,283,284,285,286,287,288,289,290,304,306,325,326,329,341,368,371,384,385,389,390,391,393,394) have mixed types.Specify dtype option on import or set low_memory=False.\n",
      "  has_raised = await self.run_ast_nodes(code_ast.body, cell_name,\n"
     ]
    },
    {
     "data": {
      "text/html": [
       "<div>\n",
       "<style scoped>\n",
       "    .dataframe tbody tr th:only-of-type {\n",
       "        vertical-align: middle;\n",
       "    }\n",
       "\n",
       "    .dataframe tbody tr th {\n",
       "        vertical-align: top;\n",
       "    }\n",
       "\n",
       "    .dataframe thead th {\n",
       "        text-align: right;\n",
       "    }\n",
       "</style>\n",
       "<table border=\"1\" class=\"dataframe\">\n",
       "  <thead>\n",
       "    <tr style=\"text-align: right;\">\n",
       "      <th></th>\n",
       "      <th>Time from Start to Finish (seconds)</th>\n",
       "      <th>Q1</th>\n",
       "      <th>Q1_OTHER_TEXT</th>\n",
       "      <th>Q2</th>\n",
       "      <th>Q3</th>\n",
       "      <th>Q4</th>\n",
       "      <th>Q5</th>\n",
       "      <th>Q6</th>\n",
       "      <th>Q6_OTHER_TEXT</th>\n",
       "      <th>Q7</th>\n",
       "      <th>...</th>\n",
       "      <th>Q49_OTHER_TEXT</th>\n",
       "      <th>Q50_Part_1</th>\n",
       "      <th>Q50_Part_2</th>\n",
       "      <th>Q50_Part_3</th>\n",
       "      <th>Q50_Part_4</th>\n",
       "      <th>Q50_Part_5</th>\n",
       "      <th>Q50_Part_6</th>\n",
       "      <th>Q50_Part_7</th>\n",
       "      <th>Q50_Part_8</th>\n",
       "      <th>Q50_OTHER_TEXT</th>\n",
       "    </tr>\n",
       "  </thead>\n",
       "  <tbody>\n",
       "    <tr>\n",
       "      <th>0</th>\n",
       "      <td>Duration (in seconds)</td>\n",
       "      <td>What is your gender? - Selected Choice</td>\n",
       "      <td>What is your gender? - Prefer to self-describe...</td>\n",
       "      <td>What is your age (# years)?</td>\n",
       "      <td>In which country do you currently reside?</td>\n",
       "      <td>What is the highest level of formal education ...</td>\n",
       "      <td>Which best describes your undergraduate major?...</td>\n",
       "      <td>Select the title most similar to your current ...</td>\n",
       "      <td>Select the title most similar to your current ...</td>\n",
       "      <td>In what industry is your current employer/cont...</td>\n",
       "      <td>...</td>\n",
       "      <td>What tools and methods do you use to make your...</td>\n",
       "      <td>What barriers prevent you from making your wor...</td>\n",
       "      <td>What barriers prevent you from making your wor...</td>\n",
       "      <td>What barriers prevent you from making your wor...</td>\n",
       "      <td>What barriers prevent you from making your wor...</td>\n",
       "      <td>What barriers prevent you from making your wor...</td>\n",
       "      <td>What barriers prevent you from making your wor...</td>\n",
       "      <td>What barriers prevent you from making your wor...</td>\n",
       "      <td>What barriers prevent you from making your wor...</td>\n",
       "      <td>What barriers prevent you from making your wor...</td>\n",
       "    </tr>\n",
       "    <tr>\n",
       "      <th>1</th>\n",
       "      <td>710</td>\n",
       "      <td>Female</td>\n",
       "      <td>-1</td>\n",
       "      <td>45-49</td>\n",
       "      <td>United States of America</td>\n",
       "      <td>Doctoral degree</td>\n",
       "      <td>Other</td>\n",
       "      <td>Consultant</td>\n",
       "      <td>-1</td>\n",
       "      <td>Other</td>\n",
       "      <td>...</td>\n",
       "      <td>-1</td>\n",
       "      <td>NaN</td>\n",
       "      <td>NaN</td>\n",
       "      <td>NaN</td>\n",
       "      <td>NaN</td>\n",
       "      <td>NaN</td>\n",
       "      <td>NaN</td>\n",
       "      <td>NaN</td>\n",
       "      <td>NaN</td>\n",
       "      <td>-1</td>\n",
       "    </tr>\n",
       "    <tr>\n",
       "      <th>2</th>\n",
       "      <td>434</td>\n",
       "      <td>Male</td>\n",
       "      <td>-1</td>\n",
       "      <td>30-34</td>\n",
       "      <td>Indonesia</td>\n",
       "      <td>Bachelor’s degree</td>\n",
       "      <td>Engineering (non-computer focused)</td>\n",
       "      <td>Other</td>\n",
       "      <td>0</td>\n",
       "      <td>Manufacturing/Fabrication</td>\n",
       "      <td>...</td>\n",
       "      <td>-1</td>\n",
       "      <td>NaN</td>\n",
       "      <td>NaN</td>\n",
       "      <td>NaN</td>\n",
       "      <td>NaN</td>\n",
       "      <td>NaN</td>\n",
       "      <td>NaN</td>\n",
       "      <td>NaN</td>\n",
       "      <td>NaN</td>\n",
       "      <td>-1</td>\n",
       "    </tr>\n",
       "    <tr>\n",
       "      <th>3</th>\n",
       "      <td>718</td>\n",
       "      <td>Female</td>\n",
       "      <td>-1</td>\n",
       "      <td>30-34</td>\n",
       "      <td>United States of America</td>\n",
       "      <td>Master’s degree</td>\n",
       "      <td>Computer science (software engineering, etc.)</td>\n",
       "      <td>Data Scientist</td>\n",
       "      <td>-1</td>\n",
       "      <td>I am a student</td>\n",
       "      <td>...</td>\n",
       "      <td>-1</td>\n",
       "      <td>NaN</td>\n",
       "      <td>Too time-consuming</td>\n",
       "      <td>NaN</td>\n",
       "      <td>NaN</td>\n",
       "      <td>NaN</td>\n",
       "      <td>NaN</td>\n",
       "      <td>NaN</td>\n",
       "      <td>NaN</td>\n",
       "      <td>-1</td>\n",
       "    </tr>\n",
       "    <tr>\n",
       "      <th>4</th>\n",
       "      <td>621</td>\n",
       "      <td>Male</td>\n",
       "      <td>-1</td>\n",
       "      <td>35-39</td>\n",
       "      <td>United States of America</td>\n",
       "      <td>Master’s degree</td>\n",
       "      <td>Social sciences (anthropology, psychology, soc...</td>\n",
       "      <td>Not employed</td>\n",
       "      <td>-1</td>\n",
       "      <td>NaN</td>\n",
       "      <td>...</td>\n",
       "      <td>-1</td>\n",
       "      <td>NaN</td>\n",
       "      <td>NaN</td>\n",
       "      <td>Requires too much technical knowledge</td>\n",
       "      <td>NaN</td>\n",
       "      <td>Not enough incentives to share my work</td>\n",
       "      <td>NaN</td>\n",
       "      <td>NaN</td>\n",
       "      <td>NaN</td>\n",
       "      <td>-1</td>\n",
       "    </tr>\n",
       "    <tr>\n",
       "      <th>...</th>\n",
       "      <td>...</td>\n",
       "      <td>...</td>\n",
       "      <td>...</td>\n",
       "      <td>...</td>\n",
       "      <td>...</td>\n",
       "      <td>...</td>\n",
       "      <td>...</td>\n",
       "      <td>...</td>\n",
       "      <td>...</td>\n",
       "      <td>...</td>\n",
       "      <td>...</td>\n",
       "      <td>...</td>\n",
       "      <td>...</td>\n",
       "      <td>...</td>\n",
       "      <td>...</td>\n",
       "      <td>...</td>\n",
       "      <td>...</td>\n",
       "      <td>...</td>\n",
       "      <td>...</td>\n",
       "      <td>...</td>\n",
       "      <td>...</td>\n",
       "    </tr>\n",
       "    <tr>\n",
       "      <th>23855</th>\n",
       "      <td>575</td>\n",
       "      <td>Male</td>\n",
       "      <td>-1</td>\n",
       "      <td>45-49</td>\n",
       "      <td>France</td>\n",
       "      <td>Doctoral degree</td>\n",
       "      <td>Computer science (software engineering, etc.)</td>\n",
       "      <td>Chief Officer</td>\n",
       "      <td>-1</td>\n",
       "      <td>Computers/Technology</td>\n",
       "      <td>...</td>\n",
       "      <td>-1</td>\n",
       "      <td>NaN</td>\n",
       "      <td>NaN</td>\n",
       "      <td>NaN</td>\n",
       "      <td>NaN</td>\n",
       "      <td>NaN</td>\n",
       "      <td>NaN</td>\n",
       "      <td>NaN</td>\n",
       "      <td>NaN</td>\n",
       "      <td>-1</td>\n",
       "    </tr>\n",
       "    <tr>\n",
       "      <th>23856</th>\n",
       "      <td>131</td>\n",
       "      <td>Female</td>\n",
       "      <td>-1</td>\n",
       "      <td>25-29</td>\n",
       "      <td>Turkey</td>\n",
       "      <td>Master’s degree</td>\n",
       "      <td>Engineering (non-computer focused)</td>\n",
       "      <td>NaN</td>\n",
       "      <td>-1</td>\n",
       "      <td>NaN</td>\n",
       "      <td>...</td>\n",
       "      <td>-1</td>\n",
       "      <td>NaN</td>\n",
       "      <td>NaN</td>\n",
       "      <td>NaN</td>\n",
       "      <td>NaN</td>\n",
       "      <td>NaN</td>\n",
       "      <td>NaN</td>\n",
       "      <td>NaN</td>\n",
       "      <td>NaN</td>\n",
       "      <td>-1</td>\n",
       "    </tr>\n",
       "    <tr>\n",
       "      <th>23857</th>\n",
       "      <td>370</td>\n",
       "      <td>Male</td>\n",
       "      <td>-1</td>\n",
       "      <td>22-24</td>\n",
       "      <td>Turkey</td>\n",
       "      <td>Master’s degree</td>\n",
       "      <td>Computer science (software engineering, etc.)</td>\n",
       "      <td>Software Engineer</td>\n",
       "      <td>-1</td>\n",
       "      <td>Computers/Technology</td>\n",
       "      <td>...</td>\n",
       "      <td>-1</td>\n",
       "      <td>NaN</td>\n",
       "      <td>NaN</td>\n",
       "      <td>NaN</td>\n",
       "      <td>NaN</td>\n",
       "      <td>NaN</td>\n",
       "      <td>NaN</td>\n",
       "      <td>NaN</td>\n",
       "      <td>NaN</td>\n",
       "      <td>-1</td>\n",
       "    </tr>\n",
       "    <tr>\n",
       "      <th>23858</th>\n",
       "      <td>36</td>\n",
       "      <td>Male</td>\n",
       "      <td>-1</td>\n",
       "      <td>25-29</td>\n",
       "      <td>United Kingdom of Great Britain and Northern I...</td>\n",
       "      <td>NaN</td>\n",
       "      <td>NaN</td>\n",
       "      <td>NaN</td>\n",
       "      <td>-1</td>\n",
       "      <td>NaN</td>\n",
       "      <td>...</td>\n",
       "      <td>-1</td>\n",
       "      <td>NaN</td>\n",
       "      <td>NaN</td>\n",
       "      <td>NaN</td>\n",
       "      <td>NaN</td>\n",
       "      <td>NaN</td>\n",
       "      <td>NaN</td>\n",
       "      <td>NaN</td>\n",
       "      <td>NaN</td>\n",
       "      <td>-1</td>\n",
       "    </tr>\n",
       "    <tr>\n",
       "      <th>23859</th>\n",
       "      <td>502</td>\n",
       "      <td>Male</td>\n",
       "      <td>-1</td>\n",
       "      <td>25-29</td>\n",
       "      <td>Spain</td>\n",
       "      <td>Master’s degree</td>\n",
       "      <td>Mathematics or statistics</td>\n",
       "      <td>NaN</td>\n",
       "      <td>-1</td>\n",
       "      <td>NaN</td>\n",
       "      <td>...</td>\n",
       "      <td>-1</td>\n",
       "      <td>NaN</td>\n",
       "      <td>NaN</td>\n",
       "      <td>NaN</td>\n",
       "      <td>NaN</td>\n",
       "      <td>NaN</td>\n",
       "      <td>NaN</td>\n",
       "      <td>NaN</td>\n",
       "      <td>NaN</td>\n",
       "      <td>-1</td>\n",
       "    </tr>\n",
       "  </tbody>\n",
       "</table>\n",
       "<p>23860 rows × 395 columns</p>\n",
       "</div>"
      ],
      "text/plain": [
       "      Time from Start to Finish (seconds)  \\\n",
       "0                   Duration (in seconds)   \n",
       "1                                     710   \n",
       "2                                     434   \n",
       "3                                     718   \n",
       "4                                     621   \n",
       "...                                   ...   \n",
       "23855                                 575   \n",
       "23856                                 131   \n",
       "23857                                 370   \n",
       "23858                                  36   \n",
       "23859                                 502   \n",
       "\n",
       "                                           Q1  \\\n",
       "0      What is your gender? - Selected Choice   \n",
       "1                                      Female   \n",
       "2                                        Male   \n",
       "3                                      Female   \n",
       "4                                        Male   \n",
       "...                                       ...   \n",
       "23855                                    Male   \n",
       "23856                                  Female   \n",
       "23857                                    Male   \n",
       "23858                                    Male   \n",
       "23859                                    Male   \n",
       "\n",
       "                                           Q1_OTHER_TEXT  \\\n",
       "0      What is your gender? - Prefer to self-describe...   \n",
       "1                                                     -1   \n",
       "2                                                     -1   \n",
       "3                                                     -1   \n",
       "4                                                     -1   \n",
       "...                                                  ...   \n",
       "23855                                                 -1   \n",
       "23856                                                 -1   \n",
       "23857                                                 -1   \n",
       "23858                                                 -1   \n",
       "23859                                                 -1   \n",
       "\n",
       "                                Q2  \\\n",
       "0      What is your age (# years)?   \n",
       "1                            45-49   \n",
       "2                            30-34   \n",
       "3                            30-34   \n",
       "4                            35-39   \n",
       "...                            ...   \n",
       "23855                        45-49   \n",
       "23856                        25-29   \n",
       "23857                        22-24   \n",
       "23858                        25-29   \n",
       "23859                        25-29   \n",
       "\n",
       "                                                      Q3  \\\n",
       "0              In which country do you currently reside?   \n",
       "1                               United States of America   \n",
       "2                                              Indonesia   \n",
       "3                               United States of America   \n",
       "4                               United States of America   \n",
       "...                                                  ...   \n",
       "23855                                             France   \n",
       "23856                                             Turkey   \n",
       "23857                                             Turkey   \n",
       "23858  United Kingdom of Great Britain and Northern I...   \n",
       "23859                                              Spain   \n",
       "\n",
       "                                                      Q4  \\\n",
       "0      What is the highest level of formal education ...   \n",
       "1                                        Doctoral degree   \n",
       "2                                      Bachelor’s degree   \n",
       "3                                        Master’s degree   \n",
       "4                                        Master’s degree   \n",
       "...                                                  ...   \n",
       "23855                                    Doctoral degree   \n",
       "23856                                    Master’s degree   \n",
       "23857                                    Master’s degree   \n",
       "23858                                                NaN   \n",
       "23859                                    Master’s degree   \n",
       "\n",
       "                                                      Q5  \\\n",
       "0      Which best describes your undergraduate major?...   \n",
       "1                                                  Other   \n",
       "2                     Engineering (non-computer focused)   \n",
       "3          Computer science (software engineering, etc.)   \n",
       "4      Social sciences (anthropology, psychology, soc...   \n",
       "...                                                  ...   \n",
       "23855      Computer science (software engineering, etc.)   \n",
       "23856                 Engineering (non-computer focused)   \n",
       "23857      Computer science (software engineering, etc.)   \n",
       "23858                                                NaN   \n",
       "23859                          Mathematics or statistics   \n",
       "\n",
       "                                                      Q6  \\\n",
       "0      Select the title most similar to your current ...   \n",
       "1                                             Consultant   \n",
       "2                                                  Other   \n",
       "3                                         Data Scientist   \n",
       "4                                           Not employed   \n",
       "...                                                  ...   \n",
       "23855                                      Chief Officer   \n",
       "23856                                                NaN   \n",
       "23857                                  Software Engineer   \n",
       "23858                                                NaN   \n",
       "23859                                                NaN   \n",
       "\n",
       "                                           Q6_OTHER_TEXT  \\\n",
       "0      Select the title most similar to your current ...   \n",
       "1                                                     -1   \n",
       "2                                                      0   \n",
       "3                                                     -1   \n",
       "4                                                     -1   \n",
       "...                                                  ...   \n",
       "23855                                                 -1   \n",
       "23856                                                 -1   \n",
       "23857                                                 -1   \n",
       "23858                                                 -1   \n",
       "23859                                                 -1   \n",
       "\n",
       "                                                      Q7  ...  \\\n",
       "0      In what industry is your current employer/cont...  ...   \n",
       "1                                                  Other  ...   \n",
       "2                              Manufacturing/Fabrication  ...   \n",
       "3                                         I am a student  ...   \n",
       "4                                                    NaN  ...   \n",
       "...                                                  ...  ...   \n",
       "23855                               Computers/Technology  ...   \n",
       "23856                                                NaN  ...   \n",
       "23857                               Computers/Technology  ...   \n",
       "23858                                                NaN  ...   \n",
       "23859                                                NaN  ...   \n",
       "\n",
       "                                          Q49_OTHER_TEXT  \\\n",
       "0      What tools and methods do you use to make your...   \n",
       "1                                                     -1   \n",
       "2                                                     -1   \n",
       "3                                                     -1   \n",
       "4                                                     -1   \n",
       "...                                                  ...   \n",
       "23855                                                 -1   \n",
       "23856                                                 -1   \n",
       "23857                                                 -1   \n",
       "23858                                                 -1   \n",
       "23859                                                 -1   \n",
       "\n",
       "                                              Q50_Part_1  \\\n",
       "0      What barriers prevent you from making your wor...   \n",
       "1                                                    NaN   \n",
       "2                                                    NaN   \n",
       "3                                                    NaN   \n",
       "4                                                    NaN   \n",
       "...                                                  ...   \n",
       "23855                                                NaN   \n",
       "23856                                                NaN   \n",
       "23857                                                NaN   \n",
       "23858                                                NaN   \n",
       "23859                                                NaN   \n",
       "\n",
       "                                              Q50_Part_2  \\\n",
       "0      What barriers prevent you from making your wor...   \n",
       "1                                                    NaN   \n",
       "2                                                    NaN   \n",
       "3                                     Too time-consuming   \n",
       "4                                                    NaN   \n",
       "...                                                  ...   \n",
       "23855                                                NaN   \n",
       "23856                                                NaN   \n",
       "23857                                                NaN   \n",
       "23858                                                NaN   \n",
       "23859                                                NaN   \n",
       "\n",
       "                                              Q50_Part_3  \\\n",
       "0      What barriers prevent you from making your wor...   \n",
       "1                                                    NaN   \n",
       "2                                                    NaN   \n",
       "3                                                    NaN   \n",
       "4                  Requires too much technical knowledge   \n",
       "...                                                  ...   \n",
       "23855                                                NaN   \n",
       "23856                                                NaN   \n",
       "23857                                                NaN   \n",
       "23858                                                NaN   \n",
       "23859                                                NaN   \n",
       "\n",
       "                                              Q50_Part_4  \\\n",
       "0      What barriers prevent you from making your wor...   \n",
       "1                                                    NaN   \n",
       "2                                                    NaN   \n",
       "3                                                    NaN   \n",
       "4                                                    NaN   \n",
       "...                                                  ...   \n",
       "23855                                                NaN   \n",
       "23856                                                NaN   \n",
       "23857                                                NaN   \n",
       "23858                                                NaN   \n",
       "23859                                                NaN   \n",
       "\n",
       "                                              Q50_Part_5  \\\n",
       "0      What barriers prevent you from making your wor...   \n",
       "1                                                    NaN   \n",
       "2                                                    NaN   \n",
       "3                                                    NaN   \n",
       "4                 Not enough incentives to share my work   \n",
       "...                                                  ...   \n",
       "23855                                                NaN   \n",
       "23856                                                NaN   \n",
       "23857                                                NaN   \n",
       "23858                                                NaN   \n",
       "23859                                                NaN   \n",
       "\n",
       "                                              Q50_Part_6  \\\n",
       "0      What barriers prevent you from making your wor...   \n",
       "1                                                    NaN   \n",
       "2                                                    NaN   \n",
       "3                                                    NaN   \n",
       "4                                                    NaN   \n",
       "...                                                  ...   \n",
       "23855                                                NaN   \n",
       "23856                                                NaN   \n",
       "23857                                                NaN   \n",
       "23858                                                NaN   \n",
       "23859                                                NaN   \n",
       "\n",
       "                                              Q50_Part_7  \\\n",
       "0      What barriers prevent you from making your wor...   \n",
       "1                                                    NaN   \n",
       "2                                                    NaN   \n",
       "3                                                    NaN   \n",
       "4                                                    NaN   \n",
       "...                                                  ...   \n",
       "23855                                                NaN   \n",
       "23856                                                NaN   \n",
       "23857                                                NaN   \n",
       "23858                                                NaN   \n",
       "23859                                                NaN   \n",
       "\n",
       "                                              Q50_Part_8  \\\n",
       "0      What barriers prevent you from making your wor...   \n",
       "1                                                    NaN   \n",
       "2                                                    NaN   \n",
       "3                                                    NaN   \n",
       "4                                                    NaN   \n",
       "...                                                  ...   \n",
       "23855                                                NaN   \n",
       "23856                                                NaN   \n",
       "23857                                                NaN   \n",
       "23858                                                NaN   \n",
       "23859                                                NaN   \n",
       "\n",
       "                                          Q50_OTHER_TEXT  \n",
       "0      What barriers prevent you from making your wor...  \n",
       "1                                                     -1  \n",
       "2                                                     -1  \n",
       "3                                                     -1  \n",
       "4                                                     -1  \n",
       "...                                                  ...  \n",
       "23855                                                 -1  \n",
       "23856                                                 -1  \n",
       "23857                                                 -1  \n",
       "23858                                                 -1  \n",
       "23859                                                 -1  \n",
       "\n",
       "[23860 rows x 395 columns]"
      ]
     },
     "execution_count": 3,
     "metadata": {},
     "output_type": "execute_result"
    }
   ],
   "source": [
    "multiplechoice = pd.read_csv('/Users/thiphan/Desktop/GitProject/Salary_Prediction/multipleChoiceResponses.csv')\n",
    "multiplechoice"
   ]
  },
  {
   "cell_type": "code",
   "execution_count": 4,
   "metadata": {},
   "outputs": [
    {
     "data": {
      "text/plain": [
       "23860"
      ]
     },
     "execution_count": 4,
     "metadata": {},
     "output_type": "execute_result"
    }
   ],
   "source": [
    "# Number of observations \n",
    "multiplechoice.shape[0]"
   ]
  },
  {
   "cell_type": "markdown",
   "metadata": {},
   "source": [
    "# analyzing and cleaning data"
   ]
  },
  {
   "cell_type": "code",
   "execution_count": 5,
   "metadata": {
    "scrolled": true
   },
   "outputs": [
    {
     "name": "stdout",
     "output_type": "stream",
     "text": [
      "['What is your current yearly compensation (approximate $USD)?' nan\n",
      " '10-20,000' '0-10,000'\n",
      " 'I do not wish to disclose my approximate yearly compensation'\n",
      " '20-30,000' '125-150,000' '30-40,000' '50-60,000' '100-125,000'\n",
      " '90-100,000' '70-80,000' '80-90,000' '60-70,000' '400-500,000'\n",
      " '40-50,000' '150-200,000' '500,000+' '300-400,000' '200-250,000'\n",
      " '250-300,000']\n"
     ]
    }
   ],
   "source": [
    "# what are the unique value in column Q9\n",
    "\n",
    "print(multiplechoice['Q9'].unique())"
   ]
  },
  {
   "cell_type": "code",
   "execution_count": 6,
   "metadata": {},
   "outputs": [
    {
     "data": {
      "text/plain": [
       "15430"
      ]
     },
     "execution_count": 6,
     "metadata": {},
     "output_type": "execute_result"
    }
   ],
   "source": [
    "# keep only numerical value\n",
    "\n",
    "multiplechoice = multiplechoice[(multiplechoice['Q9'].notnull()) \n",
    "                & (multiplechoice['Q9']!='I do not wish to disclose my approximate yearly compensation'\n",
    ")]\n",
    "multiplechoice.shape[0]"
   ]
  },
  {
   "cell_type": "code",
   "execution_count": 7,
   "metadata": {},
   "outputs": [
    {
     "name": "stdout",
     "output_type": "stream",
     "text": [
      "['What is your current yearly compensation (approximate $USD)?'\n",
      " '10-20,000' '0-10,000' '20-30,000' '125-150,000' '30-40,000' '50-60,000'\n",
      " '100-125,000' '90-100,000' '70-80,000' '80-90,000' '60-70,000'\n",
      " '400-500,000' '40-50,000' '150-200,000' '500,000+' '300-400,000'\n",
      " '200-250,000' '250-300,000']\n"
     ]
    },
    {
     "data": {
      "text/plain": [
       "Text(0.5, 1.0, 'Yearly Income')"
      ]
     },
     "execution_count": 7,
     "metadata": {},
     "output_type": "execute_result"
    },
    {
     "data": {
      "image/png": "[encoded data removed]",
      "text/plain": [
       "<Figure size 1080x720 with 1 Axes>"
      ]
     },
     "metadata": {
      "needs_background": "light"
     },
     "output_type": "display_data"
    }
   ],
   "source": [
    "print(multiplechoice['Q9'].unique())\n",
    "order = ['0-10,000', '10-20,000', '20-30,000', '30-40,000', '40-50,000', '50-60,000', '60-70,000', '70-80,000', '80-90,000', '90-100,000', '100-125,000', '125-150,000', '150-200,000', '200-250,000', '250-300,000', '300-400,000', '400-500,000', '500,000+']\n",
    "plt.figure(figsize = (15,10))\n",
    "sns.countplot(multiplechoice['Q9'], order = order)\n",
    "plt.xticks(rotation = -45)\n",
    "plt.xlabel(\"Yearly income (USD)\")\n",
    "plt.ylabel(\"Count\")\n",
    "plt.title(\"Yearly Income\")"
   ]
  },
  {
   "cell_type": "code",
   "execution_count": 8,
   "metadata": {
    "scrolled": true
   },
   "outputs": [
    {
     "data": {
      "text/html": [
       "<div>\n",
       "<style scoped>\n",
       "    .dataframe tbody tr th:only-of-type {\n",
       "        vertical-align: middle;\n",
       "    }\n",
       "\n",
       "    .dataframe tbody tr th {\n",
       "        vertical-align: top;\n",
       "    }\n",
       "\n",
       "    .dataframe thead th {\n",
       "        text-align: right;\n",
       "    }\n",
       "</style>\n",
       "<table border=\"1\" class=\"dataframe\">\n",
       "  <thead>\n",
       "    <tr style=\"text-align: right;\">\n",
       "      <th></th>\n",
       "      <th>Q1</th>\n",
       "      <th>Q9</th>\n",
       "    </tr>\n",
       "  </thead>\n",
       "  <tbody>\n",
       "    <tr>\n",
       "      <th>2</th>\n",
       "      <td>Male</td>\n",
       "      <td>10-20,000</td>\n",
       "    </tr>\n",
       "    <tr>\n",
       "      <th>3</th>\n",
       "      <td>Female</td>\n",
       "      <td>0-10,000</td>\n",
       "    </tr>\n",
       "    <tr>\n",
       "      <th>5</th>\n",
       "      <td>Male</td>\n",
       "      <td>0-10,000</td>\n",
       "    </tr>\n",
       "    <tr>\n",
       "      <th>7</th>\n",
       "      <td>Male</td>\n",
       "      <td>10-20,000</td>\n",
       "    </tr>\n",
       "    <tr>\n",
       "      <th>8</th>\n",
       "      <td>Male</td>\n",
       "      <td>0-10,000</td>\n",
       "    </tr>\n",
       "    <tr>\n",
       "      <th>...</th>\n",
       "      <td>...</td>\n",
       "      <td>...</td>\n",
       "    </tr>\n",
       "    <tr>\n",
       "      <th>23844</th>\n",
       "      <td>Male</td>\n",
       "      <td>90-100,000</td>\n",
       "    </tr>\n",
       "    <tr>\n",
       "      <th>23845</th>\n",
       "      <td>Male</td>\n",
       "      <td>0-10,000</td>\n",
       "    </tr>\n",
       "    <tr>\n",
       "      <th>23854</th>\n",
       "      <td>Male</td>\n",
       "      <td>10-20,000</td>\n",
       "    </tr>\n",
       "    <tr>\n",
       "      <th>23855</th>\n",
       "      <td>Male</td>\n",
       "      <td>250-300,000</td>\n",
       "    </tr>\n",
       "    <tr>\n",
       "      <th>23857</th>\n",
       "      <td>Male</td>\n",
       "      <td>10-20,000</td>\n",
       "    </tr>\n",
       "  </tbody>\n",
       "</table>\n",
       "<p>15429 rows × 2 columns</p>\n",
       "</div>"
      ],
      "text/plain": [
       "           Q1           Q9\n",
       "2        Male    10-20,000\n",
       "3      Female     0-10,000\n",
       "5        Male     0-10,000\n",
       "7        Male    10-20,000\n",
       "8        Male     0-10,000\n",
       "...       ...          ...\n",
       "23844    Male   90-100,000\n",
       "23845    Male     0-10,000\n",
       "23854    Male    10-20,000\n",
       "23855    Male  250-300,000\n",
       "23857    Male    10-20,000\n",
       "\n",
       "[15429 rows x 2 columns]"
      ]
     },
     "execution_count": 8,
     "metadata": {},
     "output_type": "execute_result"
    }
   ],
   "source": [
    "# subset dataframe, only Q1 and Q9 column\n",
    "\n",
    "subset_income = multiplechoice[['Q1','Q9']][1:]\n",
    "subset_income"
   ]
  },
  {
   "cell_type": "code",
   "execution_count": 9,
   "metadata": {},
   "outputs": [
    {
     "data": {
      "text/plain": [
       "<pandas.core.groupby.generic.DataFrameGroupBy object at 0x7fde16a52580>"
      ]
     },
     "execution_count": 9,
     "metadata": {},
     "output_type": "execute_result"
    }
   ],
   "source": [
    "# group by salary column\n",
    "\n",
    "income = subset_income.groupby('Q9')\n",
    "income"
   ]
  },
  {
   "cell_type": "code",
   "execution_count": 10,
   "metadata": {},
   "outputs": [],
   "source": [
    "# group data on income\n",
    "\n",
    "d1 = income.get_group('0-10,000')\n",
    "d2 = income.get_group('10-20,000')\n",
    "d3 = income.get_group('20-30,000')\n",
    "d4 = income.get_group('30-40,000')\n",
    "d5 = income.get_group('40-50,000')\n",
    "d6 = income.get_group('50-60,000')\n",
    "d7 = income.get_group('60-70,000')\n",
    "d8 = income.get_group('70-80,000')\n",
    "d9 = income.get_group('80-90,000')\n",
    "d10 = income.get_group('90-100,000')\n",
    "d11 = income.get_group('100-125,000')\n",
    "d12 = income.get_group('125-150,000')\n",
    "d13 = income.get_group('150-200,000')\n",
    "d14 = income.get_group('200-250,000')\n",
    "d15 = income.get_group('250-300,000')\n",
    "d16 = income.get_group('300-400,000')\n",
    "d17 = income.get_group('300-400,000')\n",
    "d18 = income.get_group('500,000+')"
   ]
  },
  {
   "cell_type": "code",
   "execution_count": 11,
   "metadata": {},
   "outputs": [
    {
     "name": "stdout",
     "output_type": "stream",
     "text": [
      "5        0-10,000\n",
      "8        0-10,000\n",
      "18       0-10,000\n",
      "26       0-10,000\n",
      "27       0-10,000\n",
      "           ...   \n",
      "20051    500,000+\n",
      "20875    500,000+\n",
      "21122    500,000+\n",
      "22264    500,000+\n",
      "23098    500,000+\n",
      "Name: Q9, Length: 12888, dtype: object\n",
      "3        0-10,000\n",
      "24       0-10,000\n",
      "102      0-10,000\n",
      "138      0-10,000\n",
      "171      0-10,000\n",
      "           ...   \n",
      "15825    500,000+\n",
      "18120    500,000+\n",
      "19506    500,000+\n",
      "22591    500,000+\n",
      "23627    500,000+\n",
      "Name: Q9, Length: 2384, dtype: object\n"
     ]
    }
   ],
   "source": [
    "# combine all income data to 1 dataframe\n",
    "\n",
    "data = pd.concat([d1,d2,d3,d4,d5,d6,d7,d8,d9,d10,d11,d12,d13,d14,d15,d16,d17,d18])\n",
    "income_data = data.groupby('Q1')['Q9']\n",
    "\n",
    "# group by male and female\n",
    "male = income_data.get_group('Male')\n",
    "print(male)\n",
    "female = income_data.get_group('Female')\n",
    "print(female)"
   ]
  },
  {
   "cell_type": "code",
   "execution_count": 12,
   "metadata": {},
   "outputs": [
    {
     "name": "stdout",
     "output_type": "stream",
     "text": [
      "Median income of male employees:  30-40,000\n"
     ]
    }
   ],
   "source": [
    "# treat index as column\n",
    "male_income = male.reset_index()\n",
    "male_income_data = male_income['Q9']\n",
    "male_median = int((len(male_income_data)+1)/2)\n",
    "median_income_male = male_income_data.iloc[male_median]\n",
    "print(\"Median income of male employees: \", median_income_male)"
   ]
  },
  {
   "cell_type": "code",
   "execution_count": 13,
   "metadata": {},
   "outputs": [
    {
     "name": "stdout",
     "output_type": "stream",
     "text": [
      "Median income of female employees:  20-30,000\n"
     ]
    }
   ],
   "source": [
    "female_income = female.reset_index()\n",
    "female_income_data = female_income['Q9']\n",
    "female_median = int((len(female_income_data)+1)/2)\n",
    "median_income_female = female_income_data.iloc[female_median]\n",
    "print(\"Median income of female employees: \", median_income_female)"
   ]
  },
  {
   "cell_type": "code",
   "execution_count": 14,
   "metadata": {},
   "outputs": [
    {
     "data": {
      "image/png": "[encoded data removed]",
      "text/plain": [
       "<Figure size 1080x720 with 1 Axes>"
      ]
     },
     "metadata": {
      "needs_background": "light"
     },
     "output_type": "display_data"
    }
   ],
   "source": [
    "# histogram of income of female and male\n",
    "\n",
    "#matplotlib.use('TKAgg',warn=False, force=True)\n",
    "\n",
    "plt.figure(figsize=(15,10))\n",
    "plt.hist(male, bins=18, color = 'skyblue', edgecolor = 'black', label = 'Male')\n",
    "plt.hist(female, bins=18, color = 'pink', edgecolor = 'black', label = 'Female')\n",
    "plt.xticks(rotation = -45)\n",
    "plt.legend(loc = 'upper right')\n",
    "plt.xlabel('INCOME')\n",
    "plt.ylabel('COUNT')\n",
    "plt.show()\n"
   ]
  },
  {
   "cell_type": "markdown",
   "metadata": {},
   "source": [
    "# 500 employess selected to make new dataset"
   ]
  },
  {
   "cell_type": "code",
   "execution_count": 16,
   "metadata": {},
   "outputs": [
    {
     "name": "stdout",
     "output_type": "stream",
     "text": [
      "         Q1           Q9\n",
      "19688  Male    80-90,000\n",
      "19296  Male     0-10,000\n",
      "13285  Male    30-40,000\n",
      "4680   Male    80-90,000\n",
      "23823  Male     0-10,000\n",
      "...     ...          ...\n",
      "17401  Male  300-400,000\n",
      "16674  Male     0-10,000\n",
      "5835   Male    60-70,000\n",
      "10019  Male    60-70,000\n",
      "201    Male    20-30,000\n",
      "\n",
      "[250 rows x 2 columns]\n",
      "           Q1           Q9\n",
      "15118  Female   90-100,000\n",
      "9932   Female    60-70,000\n",
      "2359   Female    40-50,000\n",
      "1817   Female    20-30,000\n",
      "20503  Female     0-10,000\n",
      "...       ...          ...\n",
      "1121   Female    10-20,000\n",
      "7918   Female    20-30,000\n",
      "17768  Female    80-90,000\n",
      "22147  Female    10-20,000\n",
      "2679   Female  100-125,000\n",
      "\n",
      "[250 rows x 2 columns]\n"
     ]
    }
   ],
   "source": [
    "male = subset_income[subset_income['Q1']== 'Male'].index\n",
    "male_sampling = np.random.choice(male,250,replace = False)\n",
    "male_value = subset_income.loc[male_sampling]\n",
    "\n",
    "female = subset_income[subset_income['Q1']== 'Female'].index\n",
    "female_sampling = np.random.choice(female,250,replace = False)\n",
    "female_value = subset_income.loc[female_sampling]\n",
    "\n",
    "print(male_value)\n",
    "print(female_value)"
   ]
  },
  {
   "cell_type": "markdown",
   "metadata": {},
   "source": [
    "# Draw the income histogram and display the median income for male and female "
   ]
  },
  {
   "cell_type": "code",
   "execution_count": 17,
   "metadata": {},
   "outputs": [
    {
     "data": {
      "image/png": "[encoded data removed]",
      "text/plain": [
       "<Figure size 1080x720 with 1 Axes>"
      ]
     },
     "metadata": {
      "needs_background": "light"
     },
     "output_type": "display_data"
    }
   ],
   "source": [
    "plt.figure(figsize = (15,10))\n",
    "plt.xticks(rotation = -45)\n",
    "plt.hist(male_value['Q9'], bins = 18, alpha = 0.3, color = 'green', edgecolor = 'black', label = 'Male')\n",
    "plt.hist(female_value['Q9'], bins = 18, alpha = 0.3, color = 'grey', edgecolor = 'black', label = 'Female')\n",
    "plt.legend(loc = 'upper right')\n",
    "plt.scatter(median_income_female, 20, color = 'red', label = 'Female')\n",
    "plt.scatter(median_income_male, 20, color = 'yellow', label = 'Male')\n",
    "plt.legend(loc = 'center right')\n",
    "plt.show()"
   ]
  },
  {
   "cell_type": "markdown",
   "metadata": {},
   "source": [
    "# draw the histogram of test statistic and draw red dot to show the difference of the median incomes between female and male employees "
   ]
  },
  {
   "cell_type": "code",
   "execution_count": 18,
   "metadata": {},
   "outputs": [
    {
     "ename": "NameError",
     "evalue": "name 'Median_diff_Male_Female' is not defined",
     "output_type": "error",
     "traceback": [
      "\u001b[0;31m---------------------------------------------------------------------------\u001b[0m",
      "\u001b[0;31mNameError\u001b[0m                                 Traceback (most recent call last)",
      "\u001b[0;32m<ipython-input-18-bbb97e76a8aa>\u001b[0m in \u001b[0;36m<module>\u001b[0;34m\u001b[0m\n\u001b[1;32m     37\u001b[0m \u001b[0;34m\u001b[0m\u001b[0m\n\u001b[1;32m     38\u001b[0m \u001b[0;31m# plot dot for median difference of male and female\u001b[0m\u001b[0;34m\u001b[0m\u001b[0;34m\u001b[0m\u001b[0;34m\u001b[0m\u001b[0m\n\u001b[0;32m---> 39\u001b[0;31m \u001b[0mplt\u001b[0m\u001b[0;34m.\u001b[0m\u001b[0mscatter\u001b[0m\u001b[0;34m(\u001b[0m\u001b[0mMedian_diff_Male_Female\u001b[0m\u001b[0;34m,\u001b[0m \u001b[0;36m20\u001b[0m\u001b[0;34m,\u001b[0m \u001b[0mcolor\u001b[0m \u001b[0;34m=\u001b[0m \u001b[0;34m'red'\u001b[0m\u001b[0;34m,\u001b[0m \u001b[0mlabel\u001b[0m \u001b[0;34m=\u001b[0m \u001b[0;34m'Median'\u001b[0m\u001b[0;34m)\u001b[0m\u001b[0;34m\u001b[0m\u001b[0;34m\u001b[0m\u001b[0m\n\u001b[0m\u001b[1;32m     40\u001b[0m \u001b[0mplt\u001b[0m\u001b[0;34m.\u001b[0m\u001b[0mlegend\u001b[0m\u001b[0;34m(\u001b[0m\u001b[0;34m)\u001b[0m\u001b[0;34m\u001b[0m\u001b[0;34m\u001b[0m\u001b[0m\n\u001b[1;32m     41\u001b[0m \u001b[0mprint\u001b[0m\u001b[0;34m(\u001b[0m\u001b[0;34mf\"The Median Salary differences of Males and females is {median_diff}\"\u001b[0m\u001b[0;34m)\u001b[0m\u001b[0;34m\u001b[0m\u001b[0;34m\u001b[0m\u001b[0m\n",
      "\u001b[0;31mNameError\u001b[0m: name 'Median_diff_Male_Female' is not defined"
     ]
    },
    {
     "data": {
      "image/png": "[encoded data removed]",
      "text/plain": [
       "<Figure size 1080x720 with 1 Axes>"
      ]
     },
     "metadata": {
      "needs_background": "light"
     },
     "output_type": "display_data"
    }
   ],
   "source": [
    "values = {'0-10,000': 5000, '10-20,000': 15000, '20-30,000': 25000, '30-40,000': 35000,'40-50,000': 45000, '50-60,000': 55000, '60-70,000': 65000, '70-80,000': 75000,'80-90,000': 85000, '90-100,000': 95000, '100-125,000': 112500,\n",
    "       '125-150,000': 137500, '150-200,000': 175000, '200-250,000': 225000,\n",
    "       '250-300,000': 275000, '300-400,000': 350000, '400-500,000': 450000,\n",
    "       '500,000+':500000,'500,000':500000}\n",
    "\n",
    "# Average calculation for approximation Salaries\n",
    "subset_income['salary'] = subset_income['Q9'].apply(lambda value: values[value]) \n",
    "\n",
    "arrays = []\n",
    "for i in range(500):\n",
    "    \n",
    "    # Median for male \n",
    "    mi = subset_income[subset_income['Q1']=='Male'].index \n",
    "    ms = np.random.choice(mi,250,replace=False)\n",
    "    fmale = subset_income.loc[ms]\n",
    "    male_data = fmale['salary'].median() \n",
    "    \n",
    "    # median for female\n",
    "    fi = subset_income[subset_income['Q1'] == 'Female'].index\n",
    "    fs = np.random.choice(fi,250,replace=False)\n",
    "    ffemale=subset_income.loc[fs]\n",
    "    female_data=ffemale['salary'].median() \n",
    "    \n",
    "    # append to array by subtract the median between male and female\n",
    "    arrays.append(male_data - female_data)\n",
    "\n",
    "mf = subset_income.groupby('Q1')\n",
    "mm = mf.get_group('Male')['salary'].median()\n",
    "fm = mf.get_group('Female')['salary'].median()\n",
    "\n",
    "# the difference of the median incomes between female and male employees\n",
    "median_diff = male_median - female_median \n",
    "\n",
    "plt.figure(figsize = (15,10))\n",
    "# histogram for 500 samples of Median salries of Male and Female \n",
    "plt.hist(arrays, bins = 20, alpha = 0.5, color = 'yellowgreen', edgecolor = 'black', linewidth = 1.2, label = 'Median Salary Differences') \n",
    "\n",
    "# plot dot for median difference of male and female\n",
    "plt.scatter(Median_diff_Male_Female, 20, color = 'red', label = 'Median') \n",
    "plt.legend()\n",
    "print(f\"The Median Salary differences of Males and females is {median_diff}\")"
   ]
  },
  {
   "cell_type": "markdown",
   "metadata": {},
   "source": [
    "# use bootstrap to procedure at leat 5000 samples and draw histogram of the test statistic"
   ]
  },
  {
   "cell_type": "code",
   "execution_count": 19,
   "metadata": {},
   "outputs": [
    {
     "name": "stdout",
     "output_type": "stream",
     "text": [
      "The Mean of original data is between 4024.3494785115577 and 10566.61728754855\n"
     ]
    },
    {
     "data": {
      "image/png": "[encoded data removed]",
      "text/plain": [
       "<Figure size 1080x720 with 1 Axes>"
      ]
     },
     "metadata": {
      "needs_background": "light"
     },
     "output_type": "display_data"
    }
   ],
   "source": [
    "arrays = []\n",
    "# generate 5000 resamples randomly from Dataset without replacement\n",
    "sample_data = subset_income.sample(5000,replace = False) \n",
    "sample_data = sample_data[['Q1','salary']]\n",
    "\n",
    "for temp in range(500):\n",
    "    # random samples of 5000 with replacment\n",
    "    bootstrap_sample = sample_data.sample(5000,replace = True) \n",
    "    bootstrap_sample_groupby = bootstrap_sample.groupby('Q1')\n",
    "    \n",
    "    # average male and female income\n",
    "    bootstrap_male_mean = bootstrap_sample_groupby.get_group('Male')['salary'].mean() \n",
    "    bootstrap_female_mean = bootstrap_sample_groupby.get_group('Female')['salary'].mean()\n",
    "    \n",
    "    # append to array by subtract average income \n",
    "    arrays.append(bootstrap_male_mean - bootstrap_female_mean)\n",
    "\n",
    "# create bootstrap dataset from array \n",
    "bootstrap_df = pd.DataFrame(arrays,columns = ['Bootstrap_values']) \n",
    "\n",
    "# 5 % data in normal distribution\n",
    "firstextreme = bootstrap_df.Bootstrap_values.quantile(0.050) \n",
    "\n",
    "#95 % of data in normal distribution\n",
    "lastextreme = bootstrap_df.Bootstrap_values.quantile(0.950) \n",
    "\n",
    "print(f\"The Mean of original data is between {firstextreme} and {lastextreme}\")\n",
    "\n",
    "male_avg = mf.get_group('Male')['salary'].mean() # Male average of original population\n",
    "female_avg = mf.get_group('Female')['salary'].mean() #Female average of original population\n",
    "\n",
    "# difference of average income\n",
    "avg_diff = male_avg - female_avg \n",
    "\n",
    "plt.figure(figsize = (15,10))\n",
    "# histogram for Bootstarp samples\n",
    "plt.hist(arrays, bins = 20, alpha = 0.5, color = 'gold', edgecolor = 'black', linewidth = 1.2) \n",
    "\n",
    "# line that shows the approxiamte data around the mean\n",
    "plt.hlines((0,0), firstextreme, lastextreme, colors = 'blue', linestyles = 'solid', linewidth = 8, label = 'Approximate Data') \n",
    "\n",
    "# plot Dot of original mean\n",
    "plt.scatter(avg_diff, 5, color = 'red', s = 200,label  ='Avg of Original Data') \n",
    "plt.legend()\n",
    "plt.show()"
   ]
  },
  {
   "cell_type": "code",
   "execution_count": 20,
   "metadata": {},
   "outputs": [
    {
     "name": "stdout",
     "output_type": "stream",
     "text": [
      "P value is 0.44144144144144143\n"
     ]
    },
    {
     "data": {
      "image/png": "[encoded data removed]",
      "text/plain": [
       "<Figure size 1080x720 with 1 Axes>"
      ]
     },
     "metadata": {
      "needs_background": "light"
     },
     "output_type": "display_data"
    }
   ],
   "source": [
    "i_md = []\n",
    "p = subset_income[['Q1','salary']]\n",
    "\n",
    "for i in range(1000):\n",
    "  i_d = p.sample(len(p),replace = False)['Q1'].reset_index()['Q1']\n",
    "  data = {'Q1data':i_d}\n",
    "  now = pd.DataFrame(data)\n",
    "  a1 = p['Q1'].reset_index()['Q1']\n",
    "  a2 = p['salary'].reset_index()['salary']\n",
    "  now['salary']=a2\n",
    "  now['now_gender']=a1\n",
    "  i_g = now.groupby('Q1data')\n",
    "  i_m = i_g.get_group('Male')['salary'].median() #Male Median value for shuffles data\n",
    "  i_f = i_g.get_group('Female')['salary'].median()\n",
    "  i_md.append(i_m - i_f) #Difference of Male and Female resampled median\n",
    "\n",
    "mf = subset_income.groupby('Q1')\n",
    "mm = mf.get_group('Male')['salary'].median() #Male median of original data\n",
    "fm = mf.get_group('Female')['salary'].mean() \n",
    "mfmd = mm - fm #Difference of male median and female median\n",
    "\n",
    "plt.figure(figsize = (15,10))\n",
    "plt.hist(i_md, bins = 20, color = 'green', edgecolor = 'black', linewidth = 1.2)\n",
    "\n",
    "i_md = np.array(i_md)\n",
    "P1 = np.count_nonzero(i_md <= mfmd) / i #Storing P value\n",
    "print(f\"P value is {P1}\")\n"
   ]
  },
  {
   "cell_type": "code",
   "execution_count": null,
   "metadata": {},
   "outputs": [],
   "source": []
  }
 ],
 "metadata": {
  "kernelspec": {
   "display_name": "Python 3",
   "language": "python",
   "name": "python3"
  },
  "language_info": {
   "codemirror_mode": {
    "name": "ipython",
    "version": 3
   },
   "file_extension": ".py",
   "mimetype": "text/x-python",
   "name": "python",
   "nbconvert_exporter": "python",
   "pygments_lexer": "ipython3",
   "version": "3.8.3"
  }
 },
 "nbformat": 4,
 "nbformat_minor": 4
}
